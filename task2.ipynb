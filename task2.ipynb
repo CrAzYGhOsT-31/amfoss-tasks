{
 "cells": [
  {
   "cell_type": "code",
   "execution_count": 24,
   "metadata": {},
   "outputs": [
    {
     "name": "stdout",
     "output_type": "stream",
     "text": [
      "60\n"
     ]
    }
   ],
   "source": [
    "from PIL import Image \n",
    "from pytesseract import pytesseract \n",
    " \n",
    "path_to_tesseract = r\"/usr/bin/tesseract\"\n",
    "image_path = r\"/home/peace/Pictures/Screenshots/ss.png\"\n",
    "\n",
    "\n",
    "img = Image.open(image_path) \n",
    "\n",
    "# Providing the tesseract \n",
    "# executable location to pytesseract library \n",
    "pytesseract.tesseract_cmd = path_to_tesseract \n",
    "\n",
    "s1 = pytesseract.image_to_string(img) \n",
    "#changing arithemetic symbols to simpler form\n",
    "s=s1[:-1]\n",
    "s=s.replace(chr(215),\"*\")\n",
    "s=s.replace(chr(120),\"*\")\n",
    "s=s.replace(chr(43),\"+\")\n",
    "s=s.replace(chr(45),\"-\")\n",
    "s=s.replace(chr(247),\"/\")\n",
    "j=0\n",
    "sl=[]\n",
    "ol=[]\n",
    "n=0\n",
    "#exracting numbers and the operator in two different lists\n",
    "for i in range(len(s)):\n",
    "    if s[i] in \"+-/*\":\n",
    "        sl+=[int(s[j:i].strip())]\n",
    "        j=i+1\n",
    "        ol+=[s[i]]\n",
    "#extracting last number        \n",
    "sl+=[int(s[j:].strip())] \n",
    "#performing the simple calculation       \n",
    "for i in range(len(ol)):\n",
    "    if ol[i]==\"+\":\n",
    "        n+=sl[i]+sl[i+1]\n",
    "    if ol[i]==\"-\":\n",
    "        n+=sl[i]-sl[i+1]\n",
    "    if ol[i]==\"*\":\n",
    "        n+=sl[i]*sl[i+1]\n",
    "    if ol[i]==\"/\":\n",
    "        n+=sl[i]/sl[i+1]\n",
    "print(n)\n",
    "\n"
   ]
  }
 ],
 "metadata": {
  "kernelspec": {
   "display_name": "Python (myenv)",
   "language": "python",
   "name": "myenv"
  },
  "language_info": {
   "codemirror_mode": {
    "name": "ipython",
    "version": 3
   },
   "file_extension": ".py",
   "mimetype": "text/x-python",
   "name": "python",
   "nbconvert_exporter": "python",
   "pygments_lexer": "ipython3",
   "version": "3.12.3"
  }
 },
 "nbformat": 4,
 "nbformat_minor": 2
}
