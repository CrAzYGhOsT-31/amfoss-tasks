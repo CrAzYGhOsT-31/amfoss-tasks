{
 "cells": [
  {
   "cell_type": "code",
   "execution_count": 2,
   "metadata": {},
   "outputs": [
    {
     "name": "stdout",
     "output_type": "stream",
     "text": [
      "204 205 206 "
     ]
    }
   ],
   "source": [
    "an = int(input())\n",
    "al = list(map(int, input().split()))\n",
    "bn = int(input())\n",
    "bl = list(map(int, input().split()))\n",
    "ans = []\n",
    "for i in bl:\n",
    "    if bl.count(i) > al.count(i):\n",
    "        ans += [i] \n",
    "for i in ans:\n",
    "    if i in al:\n",
    "        diff = bl.count(i) - al.count(i)\n",
    "        if ans.count(i) > diff:\n",
    "            for _ in range(ans.count(i) - diff):\n",
    "                ans.remove(i)\n",
    "ans.sort()\n",
    "for i in ans:\n",
    "    print(i,end=\" \")\n"
   ]
  },
  {
   "cell_type": "code",
   "execution_count": 2,
   "metadata": {},
   "outputs": [
    {
     "name": "stdout",
     "output_type": "stream",
     "text": [
      "8\n"
     ]
    }
   ],
   "source": [
    "n=int(input())\n",
    "l=list(map(int,input().split()))\n",
    "for i in l:\n",
    "    if l.count(i)!=n:\n",
    "        print(i)\n",
    "        break"
   ]
  },
  {
   "cell_type": "code",
   "execution_count": 7,
   "metadata": {},
   "outputs": [
    {
     "name": "stdout",
     "output_type": "stream",
     "text": [
      "3\n"
     ]
    }
   ],
   "source": [
    "n=int(input())\n",
    "p=int(input())\n",
    "def countutl(n,p,num):\n",
    "    val=n-(pow(num,p))\n",
    "    if val==0:\n",
    "        return 1\n",
    "    if val<0:\n",
    "        return 0\n",
    "    return countutl(val,p,num+1)+countutl(n,p,num+1)\n",
    "def countwa(n,p):\n",
    "    return  countutl(n,p,1)\n",
    "print(countwa(n,p))    \n",
    "    \n",
    "\n",
    "\n",
    "\n"
   ]
  },
  {
   "cell_type": "code",
   "execution_count": 10,
   "metadata": {},
   "outputs": [
    {
     "name": "stdout",
     "output_type": "stream",
     "text": [
      "0 1 2 1 1 1 0 0 0 0 "
     ]
    }
   ],
   "source": [
    "s=input()\n",
    "dic={}\n",
    "for i in \"0123456789\":\n",
    "    dic[i]=0\n",
    "for i in s:\n",
    "    if i in \"0123456789\":\n",
    "        dic[i]=s.count(i)\n",
    "for  i in dic:\n",
    "    print(dic[i],end=\" \")   "
   ]
  }
 ],
 "metadata": {
  "kernelspec": {
   "display_name": "Python 3",
   "language": "python",
   "name": "python3"
  },
  "language_info": {
   "codemirror_mode": {
    "name": "ipython",
    "version": 3
   },
   "file_extension": ".py",
   "mimetype": "text/x-python",
   "name": "python",
   "nbconvert_exporter": "python",
   "pygments_lexer": "ipython3",
   "version": "3.12.3"
  }
 },
 "nbformat": 4,
 "nbformat_minor": 2
}
